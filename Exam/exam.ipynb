{
 "cells": [
  {
   "cell_type": "markdown",
   "metadata": {},
   "source": [
    "## Welcome to the first-ever (and hopefully last-ever) remote ADA final exam (Fall 2020)"
   ]
  },
  {
   "cell_type": "markdown",
   "metadata": {},
   "source": [
    "In this exam, you will analyze data from Wikipedia and from the [Wikispeedia](https://dlab.epfl.ch/wikispeedia/play/) game, which you have already encountered in lecture 12 on [“Handling networks”](https://docs.google.com/presentation/d/1h6cIINJ9cNZ-Rtb7SskXrl9Xet5zPUoX2oJlNM0loHQ/edit#slide=id.g464f30ace1_0_92). The rules of the Wikispeedia game are simple:\n",
    "1. Players are given two Wikipedia articles: a *source* and a *target*.\n",
    "2. Starting from the source article, the goal is to reach the target, exclusively by following links in the articles encountered along the path."
   ]
  },
  {
   "cell_type": "markdown",
   "metadata": {},
   "source": [
    "### The data\n",
    "\n",
    "The Wikispeedia data comprises ~76K games by human players, thereby capturing human navigation behavior on a very small subset of English Wikipedia comprising ~4.5K articles with a total of ~120K links between them.\n",
    "\n",
    "The dataset is available in the `data` directory pushed to the same GitHub repo as the exam. Inside the data directory, you will find four files:\n",
    "\n",
    "####  1. `article_df_task-A.tsv.gz`: A tab-separated file with the following information about Wikipedia articles\n",
    "- *name*: The name of the Wikipedia article\n",
    "- *topic*: The top-level topic label for the article (each article is assigned exactly one topic label)\n",
    "- *content*: The cleaned text of the article (having removed punctuations, stopwords, numbers, and letter casing). It is stored as a space-separated string.\n",
    "\n",
    "#### 2. `links_task-B.tsv.gz`: A tab-separated file containing Wikipedia links\n",
    "- *linkSource*: The name of the source Wikipedia article from which the link originates\n",
    "- *linkTarget*: The name of the target Wikipedia article to which the link points\n",
    "\n",
    "#### 3.  `paths_df_task-B.tsv.gz`: A tab-separated file with the following information about the played games\n",
    "- *hashed_ip_address*: Anonymized IP address of the player\n",
    "- *source*: The name of the Wikipedia article from where the game started\n",
    "- *target*: The name of the target article that the player was supposed to reach \n",
    "- *finished*: Whether the game was successfully finished (whether the player reached the target article)\n",
    "- *human_path_length*: The number of clicks made by the player, before they either reached the target (in *finished* games) or gave up (in *unfinished* games)\n",
    "- *shortest_path_length*: The minimum number of clicks required to reach the target article from the source article. Disconnected source-target article pairs have a shortest_path_length of *-1*.\n",
    "- *duration_in_sec*: The duration of the game in seconds\n",
    "\n",
    "#### 4.  `paths_df_task-C.tsv.gz`: In continuation to the task-B paths dataframe, this tab-separated file has the following additional information\n",
    "- *in_degree_target*: In-degree of the target article, that is the number of incoming links that lead to the target article\n",
    "\n",
    "*Note: In all the aforementioned files, the first line contains the header information. Additionally, article names are URL-encoded. For example, 'Antonín_Dvořák' is stored as 'Anton%C3%ADn_Dvo%C5%99%C3%A1k'. If needed, you can decode the article names using this code: `from urllib.parse import unquote; unquote('article-name')`.*"
   ]
  },
  {
   "cell_type": "code",
   "execution_count": 1,
   "metadata": {},
   "outputs": [],
   "source": [
    "''' Some minimalistic imports '''\n",
    "import pandas as pd\n",
    "import random\n",
    "import gzip\n",
    "import operator\n",
    "import time\n",
    "from urllib.parse import unquote\n",
    "\n",
    "import math\n",
    "import numpy as np\n",
    "import scipy.stats as stats\n",
    "import sklearn\n",
    "\n",
    "import networkx as nx\n",
    "\n",
    "from IPython.display import Image\n",
    "%matplotlib inline\n",
    "import matplotlib.pyplot as plt\n",
    "import seaborn as sns"
   ]
  },
  {
   "cell_type": "markdown",
   "metadata": {},
   "source": [
    "# Task A. Can we predict article topic using textual content? (30 points)\n",
    "\n",
    "*Note-1: For the entire Task A, we will use logistic regression for its scalability and simplicity. Specifically, we will use [SGDClassifier](https://scikit-learn.org/stable/modules/generated/sklearn.linear_model.SGDClassifier.html) available in `sklearn` with 'log' loss and '5' epochs for training a logistic regression classifier.*\n",
    "\n",
    "*Note-2: In all the cases where random number generation is required (train-test split, fitting the model, etc.), make sure to use 42 as the random seed.*"
   ]
  },
  {
   "cell_type": "markdown",
   "metadata": {},
   "source": [
    "### A1. Load the text data and analyze the topic distribution (2 points)\n",
    "1. Load `data/article_df_task-A.tsv.gz` as a pandas dataframe.   \n",
    "   *Note: we have already cleaned the text for you!*\n",
    "2. Print the total number of unique topics. Additionally, using a plot of appropriate type, analyze the article topic distribution.   \n",
    "   **/Discuss:/** What do you observe? Are different topics equally likely? If not, is there a large disparity between certain highly popular and very rare topics?"
   ]
  },
  {
   "cell_type": "code",
   "execution_count": 4,
   "metadata": {},
   "outputs": [
    {
     "data": {
      "text/html": [
       "<div>\n",
       "<style scoped>\n",
       "    .dataframe tbody tr th:only-of-type {\n",
       "        vertical-align: middle;\n",
       "    }\n",
       "\n",
       "    .dataframe tbody tr th {\n",
       "        vertical-align: top;\n",
       "    }\n",
       "\n",
       "    .dataframe thead th {\n",
       "        text-align: right;\n",
       "    }\n",
       "</style>\n",
       "<table border=\"1\" class=\"dataframe\">\n",
       "  <thead>\n",
       "    <tr style=\"text-align: right;\">\n",
       "      <th></th>\n",
       "      <th>name</th>\n",
       "      <th>topic</th>\n",
       "      <th>content</th>\n",
       "    </tr>\n",
       "  </thead>\n",
       "  <tbody>\n",
       "    <tr>\n",
       "      <th>0</th>\n",
       "      <td>%C3%81ed%C3%A1n_mac_Gabr%C3%A1in</td>\n",
       "      <td>People</td>\n",
       "      <td>copyright aedan mac gabrain schools wikipedia ...</td>\n",
       "    </tr>\n",
       "    <tr>\n",
       "      <th>1</th>\n",
       "      <td>%C3%85land</td>\n",
       "      <td>Geography</td>\n",
       "      <td>copyright aland schools wikipedia selection re...</td>\n",
       "    </tr>\n",
       "    <tr>\n",
       "      <th>2</th>\n",
       "      <td>%C3%89douard_Manet</td>\n",
       "      <td>People</td>\n",
       "      <td>copyright edouard manet schools wikipedia sele...</td>\n",
       "    </tr>\n",
       "    <tr>\n",
       "      <th>3</th>\n",
       "      <td>%C3%89ire</td>\n",
       "      <td>Geography</td>\n",
       "      <td>copyright eire schools wikipedia selection rel...</td>\n",
       "    </tr>\n",
       "    <tr>\n",
       "      <th>4</th>\n",
       "      <td>%C3%93engus_I_of_the_Picts</td>\n",
       "      <td>People</td>\n",
       "      <td>copyright oengus picts schools wikipedia selec...</td>\n",
       "    </tr>\n",
       "    <tr>\n",
       "      <th>...</th>\n",
       "      <td>...</td>\n",
       "      <td>...</td>\n",
       "      <td>...</td>\n",
       "    </tr>\n",
       "    <tr>\n",
       "      <th>4593</th>\n",
       "      <td>Zionism</td>\n",
       "      <td>People</td>\n",
       "      <td>copyright zionism schools wikipedia selection ...</td>\n",
       "    </tr>\n",
       "    <tr>\n",
       "      <th>4594</th>\n",
       "      <td>Zirconium</td>\n",
       "      <td>Science</td>\n",
       "      <td>copyright zirconium schools wikipedia selectio...</td>\n",
       "    </tr>\n",
       "    <tr>\n",
       "      <th>4595</th>\n",
       "      <td>Zoroaster</td>\n",
       "      <td>People</td>\n",
       "      <td>copyright zoroaster schools wikipedia selectio...</td>\n",
       "    </tr>\n",
       "    <tr>\n",
       "      <th>4596</th>\n",
       "      <td>Zuid-Gelders</td>\n",
       "      <td>Geography</td>\n",
       "      <td>copyright zuid gelders schools wikipedia selec...</td>\n",
       "    </tr>\n",
       "    <tr>\n",
       "      <th>4597</th>\n",
       "      <td>Zulu</td>\n",
       "      <td>Geography</td>\n",
       "      <td>copyright zulu schools wikipedia selection rel...</td>\n",
       "    </tr>\n",
       "  </tbody>\n",
       "</table>\n",
       "<p>4598 rows × 3 columns</p>\n",
       "</div>"
      ],
      "text/plain": [
       "                                  name      topic  \\\n",
       "0     %C3%81ed%C3%A1n_mac_Gabr%C3%A1in     People   \n",
       "1                           %C3%85land  Geography   \n",
       "2                   %C3%89douard_Manet     People   \n",
       "3                            %C3%89ire  Geography   \n",
       "4           %C3%93engus_I_of_the_Picts     People   \n",
       "...                                ...        ...   \n",
       "4593                           Zionism     People   \n",
       "4594                         Zirconium    Science   \n",
       "4595                         Zoroaster     People   \n",
       "4596                      Zuid-Gelders  Geography   \n",
       "4597                              Zulu  Geography   \n",
       "\n",
       "                                                content  \n",
       "0     copyright aedan mac gabrain schools wikipedia ...  \n",
       "1     copyright aland schools wikipedia selection re...  \n",
       "2     copyright edouard manet schools wikipedia sele...  \n",
       "3     copyright eire schools wikipedia selection rel...  \n",
       "4     copyright oengus picts schools wikipedia selec...  \n",
       "...                                                 ...  \n",
       "4593  copyright zionism schools wikipedia selection ...  \n",
       "4594  copyright zirconium schools wikipedia selectio...  \n",
       "4595  copyright zoroaster schools wikipedia selectio...  \n",
       "4596  copyright zuid gelders schools wikipedia selec...  \n",
       "4597  copyright zulu schools wikipedia selection rel...  \n",
       "\n",
       "[4598 rows x 3 columns]"
      ]
     },
     "execution_count": 4,
     "metadata": {},
     "output_type": "execute_result"
    }
   ],
   "source": [
    "# 1.\n",
    "\n",
    "article_df = pd.read_csv('data/article_df_task-A.tsv.gz', sep='\\t')\n",
    "article_df"
   ]
  },
  {
   "cell_type": "code",
   "execution_count": 19,
   "metadata": {},
   "outputs": [
    {
     "name": "stdout",
     "output_type": "stream",
     "text": [
      "Total number of unique topics : 14\n"
     ]
    },
    {
     "data": {
      "image/png": "[encoded data removed]",
      "text/plain": [
       "<Figure size 640x480 with 1 Axes>"
      ]
     },
     "metadata": {},
     "output_type": "display_data"
    }
   ],
   "source": [
    "# 2. \n",
    "\n",
    "# Find number of unique topics\n",
    "print(\"Total number of unique topics :\", article_df['topic'].nunique())\n",
    "\n",
    "# Find proportion of articles per topic\n",
    "num_by_topic = article_df.groupby('topic').count()\n",
    "total_articles = article_df.shape[0]\n",
    "num_by_topic['proportion'] = num_by_topic['name']/total_articles \n",
    "num_by_topic['topic'] = num_by_topic.index\n",
    "\n",
    "# Plot a barplot to visualize the proportion\n",
    "sns.barplot(data=num_by_topic, x='topic', y='proportion')\n",
    "plt.title('Proportion of articles of per topic')\n",
    "plt.xlabel('Topic')\n",
    "plt.ylabel('Proportion of articles')\n",
    "plt.tick_params(axis='x', rotation=90)"
   ]
  },
  {
   "cell_type": "code",
   "execution_count": null,
   "metadata": {},
   "outputs": [],
   "source": [
    "# We observe that there many more Geography and Science articles compared to the other topics. There is a clearly large disparity\n",
    "# between topics."
   ]
  },
  {
   "cell_type": "markdown",
   "metadata": {},
   "source": [
    "### A2. Topic classification (multi-class): Articles from 5 most frequent topics (8 points)\n",
    "\n",
    "#### A2.1 Prepping the data for ML (3 points)\n",
    "1. Restrict the data to articles corresponding to the top-5 topics based on topic frequency.\n",
    "2. Construct a TF-IDF representation of textual content.\n",
    "3. Classes are defined by the topic labels, which are given as *strings*. However, for training classifiers via `sklearn` the class labels need to be encoded as ordinals. Perform this encoding and add a new column of ordinal class labels in the current dataframe.\n",
    "4. Create two numpy arrays: X (TF-IDF representation of each article) and y (class-label of each article).\n",
    "\n",
    "#### A2.2 Train and evaluate a multi-class classifier (5 points)\n",
    "1. Perform a train-test split with 70% as the training portion and the remainder as the testing portion. Use `random_state=42` for fixing the seed to 42.\n",
    "2. Train a logistic regression classifier with L2 regularization using the `SGDClassifier()` method of `sklearn`. Use `SGDClassifier(loss='log', max_iter=5, tol=None, alpha=1e-4, random_state=42)` to initialize the classifier object. Do not modify the settings for any other parameter, let them be set to their default values.   \n",
    "   **Important heads-up**: *Depending on the configuration of your computer, training the model could take up to 1 minute of compute time.*\n",
    "3. Report the classifier performance on the test data using accuracy as the metric.\n",
    "4. **/Discuss:/** Are you satisfied with the model performance? Qualitatively discuss the performance of the model by comparing it to a random baseline and justify your response.\n",
    "\n",
    "**Important note:** *Based on the discussion in the class, logistic regression is a binary classification technique. A simple heuristic to perform multi-class classification using a binary classifier is to use the [one-vs.-rest (OVR)](https://en.wikipedia.org/wiki/Multiclass_classification#One-vs.-rest) strategy. In this strategy, a binary classifier is trained for each class with the capability to differentiate it from all the other classes, and thus, $k$ binary classifiers are trained for a $k$-class classification. Internally, `SGDClassifier()` uses the [OVR](https://scikit-learn.org/stable/modules/generated/sklearn.multiclass.OneVsRestClassifier.html) strategy of `sklearn` whenever it sees the number of unique values in the **y** vector to be greater than 2. Thus, you can simply use it as a black-box! The only important point for this part is to make sure that the **y** vector of class-labels should have **5** unique values, one corresponding to each class-label.*"
   ]
  },
  {
   "cell_type": "code",
   "execution_count": 75,
   "metadata": {},
   "outputs": [
    {
     "data": {
      "text/html": [
       "<div>\n",
       "<style scoped>\n",
       "    .dataframe tbody tr th:only-of-type {\n",
       "        vertical-align: middle;\n",
       "    }\n",
       "\n",
       "    .dataframe tbody tr th {\n",
       "        vertical-align: top;\n",
       "    }\n",
       "\n",
       "    .dataframe thead th {\n",
       "        text-align: right;\n",
       "    }\n",
       "</style>\n",
       "<table border=\"1\" class=\"dataframe\">\n",
       "  <thead>\n",
       "    <tr style=\"text-align: right;\">\n",
       "      <th></th>\n",
       "      <th>topic</th>\n",
       "      <th>count</th>\n",
       "    </tr>\n",
       "  </thead>\n",
       "  <tbody>\n",
       "    <tr>\n",
       "      <th>0</th>\n",
       "      <td>Science</td>\n",
       "      <td>1105</td>\n",
       "    </tr>\n",
       "    <tr>\n",
       "      <th>1</th>\n",
       "      <td>Geography</td>\n",
       "      <td>1058</td>\n",
       "    </tr>\n",
       "    <tr>\n",
       "      <th>2</th>\n",
       "      <td>People</td>\n",
       "      <td>673</td>\n",
       "    </tr>\n",
       "    <tr>\n",
       "      <th>3</th>\n",
       "      <td>History</td>\n",
       "      <td>434</td>\n",
       "    </tr>\n",
       "    <tr>\n",
       "      <th>4</th>\n",
       "      <td>Everyday_life</td>\n",
       "      <td>310</td>\n",
       "    </tr>\n",
       "  </tbody>\n",
       "</table>\n",
       "</div>"
      ],
      "text/plain": [
       "           topic  count\n",
       "0        Science   1105\n",
       "1      Geography   1058\n",
       "2         People    673\n",
       "3        History    434\n",
       "4  Everyday_life    310"
      ]
     },
     "metadata": {},
     "output_type": "display_data"
    },
    {
     "name": "stdout",
     "output_type": "stream",
     "text": [
      "The restricted dataframe is of size : 3580\n"
     ]
    }
   ],
   "source": [
    "# 1. \n",
    "\n",
    "# 1) Restrict the data to the top-5 topics based on topic frequency\n",
    "tmp = article_df.groupby('topic').count().name.sort_values(ascending=False)\n",
    "tmp = pd.DataFrame({'topic':tmp.index, 'count':tmp.values})\n",
    "top_five_topics = tmp[:5]\n",
    "display(top_five_topics)\n",
    "\n",
    "restricted_df = pd.merge(article_df, top_five_topics, on='topic', how='inner')\n",
    "restricted_df = restricted_df.drop('count', axis=1)\n",
    "print(\"The restricted dataframe is of size :\", restricted_df.shape[0])\n",
    "restricted_df.head()\n",
    "\n",
    "# 2) Construct a tf-idf representation of the textual content\n",
    "from sklearn.feature_extraction.text import TfidfVectorizer\n",
    "\n",
    "vectorizer = TfidfVectorizer()\n",
    "tfidf_matrix = vectorizer.fit_transform(restricted_df.content)"
   ]
  },
  {
   "cell_type": "code",
   "execution_count": 76,
   "metadata": {},
   "outputs": [],
   "source": [
    "# 1.\n",
    "\n",
    "# 3) Encore topic labels as ordinal values\n",
    "from sklearn.preprocessing import OrdinalEncoder\n",
    "\n",
    "topics = [['Science', 'Geography', 'People', 'History', 'Everyday_life']]\n",
    "enc = OrdinalEncoder(categories=topics)\n",
    "restricted_df['encoded_topic'] = enc.fit_transform(restricted_df[['topic']])\n",
    "\n",
    "\n",
    "# 4) Create X and y\n",
    "X = tfidf_matrix\n",
    "y = restricted_df['encoded_topic']"
   ]
  },
  {
   "cell_type": "code",
   "execution_count": null,
   "metadata": {},
   "outputs": [
    {
     "name": "stdout",
     "output_type": "stream",
     "text": [
      "The accuracy of the classifier is : 0.88268156424581\n"
     ]
    }
   ],
   "source": [
    "# 2.\n",
    "\n",
    "# 1) Split into training and testing set\n",
    "from sklearn.model_selection import train_test_split\n",
    "\n",
    "X_train, X_test, y_train, y_test = train_test_split(X, y, test_size=0.3, random_state=42)\n",
    "\n",
    "# 2) Train a logistic regression classifier\n",
    "from sklearn.linear_model import SGDClassifier\n",
    "\n",
    "clf = SGDClassifier(loss='log_loss', max_iter=5, tol=None, alpha=1e-4, random_state=42)\n",
    "clf.fit(X_train, y_train)\n",
    "\n",
    "# 3) Predict using the classifier and get the accuracy of the model\n",
    "from sklearn.metrics import accuracy_score\n",
    "\n",
    "y_pred = clf.predict(X_test)\n",
    "accuracy = accuracy_score(y_test, y_pred)\n",
    "print(\"The accuracy of the classifier is :\", accuracy)"
   ]
  },
  {
   "cell_type": "code",
   "execution_count": 78,
   "metadata": {},
   "outputs": [],
   "source": [
    "# 2.\n",
    " \n",
    "# 4) A random baseline would find the right topic 20% of the time (i.e. one out of five times). Hence this classifier manages to \n",
    "# find the right topic more than four times more often than the random baseline. This is quite a good classifier."
   ]
  },
  {
   "cell_type": "markdown",
   "metadata": {},
   "source": [
    "### A3. Topic classification (binary): Articles from the most and least frequent topics (12 points)\n",
    "\n",
    "#### A3.1 Train and evaluate a binary classifier (2 points)\n",
    "1. Restrict the data to articles belonging to the most frequent or to the least frequent topic.\n",
    "2. Create two numpy arrays: X (TF-IDF representation of each article) and y (class-label of each article).\n",
    "3. Perform a train-test split with 70% as the training portion and the remainder as the testing portion. Use `random_state=42` for fixing the seed to 42.\n",
    "4. Train a logistic regression classifier with L2 regularization using the `SGDClassifier()` method of `sklearn`. Use `SGDClassifier(loss='log', max_iter=5, tol=None, alpha=1e-4, random_state=42)` to initialize the classifier object. Do not modify the settings for any other parameter, let them be set to their default values.\n",
    "5. Report the classifier performance on the test data using accuracy as the metric."
   ]
  },
  {
   "cell_type": "code",
   "execution_count": 110,
   "metadata": {},
   "outputs": [
    {
     "name": "stdout",
     "output_type": "stream",
     "text": [
      "The most frequent topic is : Science\n",
      "The least frequent topic is : Art\n",
      "The restricted dataframe is of size : 1138\n",
      "The accuracy of the binary classifier is : 0.9678362573099415\n"
     ]
    }
   ],
   "source": [
    "# 3. \n",
    "\n",
    "# 1) Restrict the data to the most and least frequent topics\n",
    "tmp = article_df.groupby('topic').count().name.sort_values(ascending=False)\n",
    "tmp = pd.DataFrame({'topic':tmp.index, 'count':tmp.index})\n",
    "print(\"The most frequent topic is :\", tmp['topic'].iloc[0])\n",
    "print(\"The least frequent topic is :\", tmp['topic'].iloc[-1])\n",
    "\n",
    "restricted_df = article_df[article_df['topic'].isin(['Science', 'Art'])]\n",
    "print(\"The restricted dataframe is of size :\", restricted_df.shape[0])\n",
    "restricted_df.tail()\n",
    "\n",
    "# 2) Create the TF-IDF representation and class-label\n",
    "X = TfidfVectorizer().fit_transform(restricted_df['content'])\n",
    "y = restricted_df['topic']\n",
    "\n",
    "# 3) Perform the train-test split\n",
    "X_train, X_test, y_train, y_test = train_test_split(X, y, test_size=0.3, random_state=42)\n",
    "\n",
    "# 4) Train a logistic regression classifier with L2 regularization\n",
    "clf = SGDClassifier(loss='log_loss', max_iter=5, tol=None, alpha=1e-4, random_state=42)\n",
    "clf.fit(X_train, y_train)\n",
    "\n",
    "# 5) Predict the class label and compute accuracy\n",
    "y_pred = clf.predict(X_test)\n",
    "accuracy = accuracy_score(y_test, y_pred)\n",
    "print(\"The accuracy of the binary classifier is :\", accuracy)"
   ]
  },
  {
   "cell_type": "markdown",
   "metadata": {},
   "source": [
    "#### A3.2 Assessing the evaluation metric (5 points)\n",
    "1. **/Discuss:/** What is your take on the accuracy obtained in A3.1? Do you think accuracy is the correct evaluation metric for this task? If yes, justify! If not, why not, and what else can be used?\n",
    "2. If you included additional evaluation metrics in A3.2.1, then perform an empirical analysis of the performance using these metrics.   \n",
    "   **/Discuss:/** Additionally, discuss what you observe. Is it harder to predict the topic labels of certain articles? Why, or why not? Please elaborate!"
   ]
  },
  {
   "cell_type": "code",
   "execution_count": 108,
   "metadata": {},
   "outputs": [
    {
     "name": "stdout",
     "output_type": "stream",
     "text": [
      "F1-score: 0.6251121076233184  Recall: 0.5818181818181818  Precision: 0.8185840707964602\n"
     ]
    },
    {
     "data": {
      "text/plain": [
       "<AxesSubplot: xlabel='Predicted', ylabel='True'>"
      ]
     },
     "execution_count": 108,
     "metadata": {},
     "output_type": "execute_result"
    },
    {
     "data": {
      "image/png": "[encoded data removed]",
      "text/plain": [
       "<Figure size 640x480 with 2 Axes>"
      ]
     },
     "metadata": {},
     "output_type": "display_data"
    }
   ],
   "source": [
    "# 1. For this binary classifer, maybe using the f1-score would be a better measure of the performance of the classifier.\n",
    "# Especially, in this case where the classes are really skewed, the accuracy is not a good metric. We could also use \n",
    "# the AUC of the ROC curve\n",
    "\n",
    "# 2. \n",
    "from sklearn.metrics import f1_score, recall_score, precision_score, confusion_matrix\n",
    "\n",
    "y_test = np.array(y_test)\n",
    "\n",
    "f1 = f1_score(y_test, y_pred, average='macro')\n",
    "recall = recall_score(y_test, y_pred, average='macro')\n",
    "precision = precision_score(y_test, y_pred, average='macro')\n",
    "print(\"F1-score:\", f1, \" Recall:\", recall, \" Precision:\", precision)\n",
    "df_confusion = pd.DataFrame(confusion_matrix(y_test, y_pred))\n",
    "df_confusion.index.name = \"True\"\n",
    "df_confusion.T.index.name = \"Predicted\"\n",
    "df_confusion = df_confusion / df_confusion.sum(axis=0).sum()\n",
    "sns.heatmap(df_confusion, annot=True)"
   ]
  },
  {
   "cell_type": "code",
   "execution_count": null,
   "metadata": {},
   "outputs": [],
   "source": [
    "# As we can see in the confusion matrix, the binary classifier is really good at classifying science documents but that is \n",
    "# because almost all of the documents of the training set are in the science topic."
   ]
  },
  {
   "cell_type": "markdown",
   "metadata": {},
   "source": [
    "#### A3.3 Class proportions (5 points)\n",
    "1. **/Discuss:/** Does the disparity in class proportions hurt the model? If yes, how can you fix it? If not, why not? Justify your response with clear and crisp reasons!    \n",
    "   *Hint: The learning objective of a classifier can be modified by altering the importance of each class in the computation of the loss function.*\n",
    "2. If your answer to the aforementioned question is a \"yes\", please do the following. If not, move to **Task A4**.\n",
    "    * Implement the fix you proposed in A3.3.1, and repeat the classification task performed in Step A3.1 using the fixed model.\n",
    "    * Vary the regularization parameter `alpha` in the range [1e-6, 1e-5, 1e-4, 1e-3, 1e-2, 1e-1], and using accuracy as the metric find and report its optimal value using 5-fold cross validation on the training set.   \n",
    "       **Important heads-up**: *Depending on the configuration of your computer, grid search for the optimal value of `alpha` could take up to 1 minute of compute time.*\n",
    "    * Lastly, using the optimal `alpha` identified in the previous step, redo the evaluations proposed in A3.2.   \n",
    "       **/Discuss:/** Do you observe any differences from the results obtained in A3.2? Why, or why not? Please elaborate!"
   ]
  },
  {
   "cell_type": "code",
   "execution_count": 114,
   "metadata": {},
   "outputs": [
    {
     "name": "stdout",
     "output_type": "stream",
     "text": [
      "The accuracy of the binary classifier with balanced classes is : 0.9912280701754386\n"
     ]
    },
    {
     "data": {
      "image/png": "[encoded data removed]",
      "text/plain": [
       "<Figure size 600x600 with 1 Axes>"
      ]
     },
     "metadata": {},
     "output_type": "display_data"
    }
   ],
   "source": [
    "# 1) Yes the disparity in class proportions hurt the model. We can fix it by adding more data for the class with fewer data points,\n",
    "# or we can modify the importance of the class with less data in the classifier. \n",
    "\n",
    "# 2) Considering that we cannot add data to the class with fewer data points here, we can reweight the loss function\n",
    "clf = SGDClassifier(loss='log_loss', max_iter=5, tol=None, alpha=1e-4, random_state=42, class_weight='balanced')\n",
    "clf.fit(X_train, y_train)\n",
    "\n",
    "# 5) Predict the class label and compute accuracy\n",
    "y_pred = clf.predict(X_test)\n",
    "accuracy = accuracy_score(y_test, y_pred)\n",
    "print(\"The accuracy of the binary classifier with balanced classes is :\", accuracy)\n",
    "\n",
    "alphas = [1e-6, 1e-5, 1e-4, 1e-3, 1e-2, 1e-1]\n",
    "accuracies = []\n",
    "for alpha in alphas:\n",
    "    clf = SGDClassifier(loss='log_loss', max_iter=5, tol=None, alpha=alpha, random_state=42, class_weight='balanced')\n",
    "    clf.fit(X_train, y_train)\n",
    "\n",
    "    # 5) Predict the class label and compute accuracy\n",
    "    y_pred = clf.predict(X_test)\n",
    "    accuracies.append(accuracy_score(y_test, y_pred))\n",
    "\n",
    "fig, ax = plt.subplots(1, 1, figsize=(6, 6))\n",
    "ax.plot(alphas, accuracies, 'o-')\n",
    "plt.xlabel('Alpha')\n",
    "plt.ylabel('Accuracy')\n",
    "plt.xscale('log')\n",
    "plt.title('Accuracy vs Alpha (regularization parameter)')\n",
    "plt.show();\n"
   ]
  },
  {
   "cell_type": "markdown",
   "metadata": {},
   "source": [
    "### A4. Revisiting Multi-class classifier of A2.2 (4 points)\n",
    "\n",
    "1. Print and analyze the confusion matrix for the multi-class model trained in A2.2. **/Discuss:/** What do you observe? Please elaborate!\n",
    "2. **/Discuss:/** Similar to A3.3, does the disparity in class proportions hurt the model? If yes, how can you fix it? If not, why not? Justify your response with clear and crisp reasons!\n",
    "3. If your answer to the aforementioned question is a \"yes\", please do the following. If not, move to **Task A5**.\n",
    "    * Implement the fix you proposed in A4.2, and repeat the classification task performed in Step A2.2 using the fixed model.\n",
    "    * Vary the regularization parameter `alpha` in the range [1e-6, 1e-5, 1e-4, 1e-3], and using accuracy as the metric find and report its optimal value using 5-fold cross validation on the training set.   \n",
    "       **Important heads-up**: *Depending on the configuration of your computer, grid search for the optimal value of `alpha` could take up to 2 minutes of compute time.*\n",
    "    * Lastly, using the optimal `alpha` identified in the previous step, obtain the accuracy and confusion matrix.\n",
    "4. **/Discuss:/** Contrast the confusion matrix obtained in A4.1 with the one obtained in A4.3. Do you observe any differences? Why, or why not? Please elaborate!"
   ]
  },
  {
   "cell_type": "code",
   "execution_count": 115,
   "metadata": {
    "scrolled": true
   },
   "outputs": [
    {
     "data": {
      "text/html": [
       "<div>\n",
       "<style scoped>\n",
       "    .dataframe tbody tr th:only-of-type {\n",
       "        vertical-align: middle;\n",
       "    }\n",
       "\n",
       "    .dataframe tbody tr th {\n",
       "        vertical-align: top;\n",
       "    }\n",
       "\n",
       "    .dataframe thead th {\n",
       "        text-align: right;\n",
       "    }\n",
       "</style>\n",
       "<table border=\"1\" class=\"dataframe\">\n",
       "  <thead>\n",
       "    <tr style=\"text-align: right;\">\n",
       "      <th></th>\n",
       "      <th>topic</th>\n",
       "      <th>count</th>\n",
       "    </tr>\n",
       "  </thead>\n",
       "  <tbody>\n",
       "    <tr>\n",
       "      <th>0</th>\n",
       "      <td>Science</td>\n",
       "      <td>1105</td>\n",
       "    </tr>\n",
       "    <tr>\n",
       "      <th>1</th>\n",
       "      <td>Geography</td>\n",
       "      <td>1058</td>\n",
       "    </tr>\n",
       "    <tr>\n",
       "      <th>2</th>\n",
       "      <td>People</td>\n",
       "      <td>673</td>\n",
       "    </tr>\n",
       "    <tr>\n",
       "      <th>3</th>\n",
       "      <td>History</td>\n",
       "      <td>434</td>\n",
       "    </tr>\n",
       "    <tr>\n",
       "      <th>4</th>\n",
       "      <td>Everyday_life</td>\n",
       "      <td>310</td>\n",
       "    </tr>\n",
       "  </tbody>\n",
       "</table>\n",
       "</div>"
      ],
      "text/plain": [
       "           topic  count\n",
       "0        Science   1105\n",
       "1      Geography   1058\n",
       "2         People    673\n",
       "3        History    434\n",
       "4  Everyday_life    310"
      ]
     },
     "metadata": {},
     "output_type": "display_data"
    },
    {
     "name": "stdout",
     "output_type": "stream",
     "text": [
      "The restricted dataframe is of size : 3580\n"
     ]
    }
   ],
   "source": [
    "# 1) Restrict the data to the top-5 topics based on topic frequency\n",
    "tmp = article_df.groupby('topic').count().name.sort_values(ascending=False)\n",
    "tmp = pd.DataFrame({'topic':tmp.index, 'count':tmp.values})\n",
    "top_five_topics = tmp[:5]\n",
    "display(top_five_topics)\n",
    "\n",
    "restricted_df = pd.merge(article_df, top_five_topics, on='topic', how='inner')\n",
    "restricted_df = restricted_df.drop('count', axis=1)\n",
    "print(\"The restricted dataframe is of size :\", restricted_df.shape[0])\n",
    "restricted_df.head()\n",
    "\n",
    "# 2) Construct a tf-idf representation of the textual content\n",
    "from sklearn.feature_extraction.text import TfidfVectorizer\n",
    "\n",
    "vectorizer = TfidfVectorizer()\n",
    "tfidf_matrix = vectorizer.fit_transform(restricted_df.content)"
   ]
  },
  {
   "cell_type": "code",
   "execution_count": 117,
   "metadata": {},
   "outputs": [
    {
     "name": "stdout",
     "output_type": "stream",
     "text": [
      "The accuracy of the classifier is : 0.88268156424581\n",
      "F1-score: 0.833340112466821  Recall: 0.8086234016567462  Precision: 0.8828152676195387\n"
     ]
    },
    {
     "data": {
      "text/plain": [
       "<AxesSubplot: xlabel='Predicted', ylabel='True'>"
      ]
     },
     "execution_count": 117,
     "metadata": {},
     "output_type": "execute_result"
    },
    {
     "data": {
      "image/png": "[encoded data removed]",
      "text/plain": [
       "<Figure size 640x480 with 2 Axes>"
      ]
     },
     "metadata": {},
     "output_type": "display_data"
    }
   ],
   "source": [
    "# 3) Encore topic labels as ordinal values\n",
    "from sklearn.preprocessing import OrdinalEncoder\n",
    "\n",
    "topics = [['Science', 'Geography', 'People', 'History', 'Everyday_life']]\n",
    "enc = OrdinalEncoder(categories=topics)\n",
    "restricted_df['encoded_topic'] = enc.fit_transform(restricted_df[['topic']])\n",
    "\n",
    "\n",
    "# 4) Create X and y\n",
    "X = tfidf_matrix\n",
    "y = restricted_df['encoded_topic']\n",
    "\n",
    "# 1) Split into training and testing set\n",
    "from sklearn.model_selection import train_test_split\n",
    "\n",
    "X_train, X_test, y_train, y_test = train_test_split(X, y, test_size=0.3, random_state=42)\n",
    "\n",
    "# 2) Train a logistic regression classifier\n",
    "from sklearn.linear_model import SGDClassifier\n",
    "\n",
    "clf = SGDClassifier(loss='log_loss', max_iter=5, tol=None, alpha=1e-4, random_state=42)\n",
    "clf.fit(X_train, y_train)\n",
    "\n",
    "# 3) Predict using the classifier and get the accuracy of the model\n",
    "from sklearn.metrics import accuracy_score\n",
    "\n",
    "y_pred = clf.predict(X_test)\n",
    "accuracy = accuracy_score(y_test, y_pred)\n",
    "print(\"The accuracy of the classifier is :\", accuracy)\n",
    "\n",
    "f1 = f1_score(y_test, y_pred, average='macro')\n",
    "recall = recall_score(y_test, y_pred, average='macro')\n",
    "precision = precision_score(y_test, y_pred, average='macro')\n",
    "print(\"F1-score:\", f1, \" Recall:\", recall, \" Precision:\", precision)\n",
    "df_confusion = pd.DataFrame(confusion_matrix(y_test, y_pred))\n",
    "df_confusion.index.name = \"True\"\n",
    "df_confusion.T.index.name = \"Predicted\"\n",
    "df_confusion = df_confusion / df_confusion.sum(axis=0).sum()\n",
    "sns.heatmap(df_confusion, annot=True)"
   ]
  },
  {
   "cell_type": "code",
   "execution_count": null,
   "metadata": {},
   "outputs": [],
   "source": [
    "# We see that all the off-diagonal elements of the confusion matrix are close to zero and that the diagonal elements seem \n",
    "# to be pretty consistent with the sizes of each topic"
   ]
  },
  {
   "cell_type": "markdown",
   "metadata": {},
   "source": [
    "### A5. Interpretability (4 points)\n",
    "1. For each of the 5-classes considered in **A4**, obtain a list of top-10 words (sorted in descending order of their importance) based on the feature weights learned by the classifier.\n",
    "\n",
    "2. **/Discuss:/** Qualitatively discuss the relevance of the identified words and their association with the respective class-labels. Is the classifier correct to assign them high weights? Are they truly discriminative/predictive of the respective class-labels? Justify your responses with clear and crisp reasons!"
   ]
  },
  {
   "cell_type": "code",
   "execution_count": 124,
   "metadata": {
    "scrolled": true
   },
   "outputs": [
    {
     "name": "stdout",
     "output_type": "stream",
     "text": [
      "Top features for class 0:\n",
      "oil: -2.4561847407534034\n",
      "lake: -2.692284231023719\n",
      "classification: 2.7054486681575813\n",
      "river: -2.7779658658786985\n",
      "war: -2.9190027742730087\n",
      "space: 2.9716554425693196\n",
      "birds: 3.13044154219975\n",
      "city: -3.9527356947076613\n",
      "genus: 4.669036064311689\n",
      "species: 8.233761278479387\n",
      "Top features for class 1:\n",
      "geography: 3.4649142110197113\n",
      "sea: 3.528973744735218\n",
      "species: -3.8366265430908952\n",
      "lake: 3.9593218025182546\n",
      "islands: 4.147342656683909\n",
      "area: 4.166397731795844\n",
      "population: 4.343864280710838\n",
      "island: 4.743972826064569\n",
      "river: 4.7998083663375\n",
      "city: 8.481434699548908\n",
      "Top features for class 2:\n",
      "life: 3.195481676358194\n",
      "son: 3.2054368832647624\n",
      "death: 3.428376362710487\n",
      "work: 3.5059968188947894\n",
      "died: 3.5514729362081834\n",
      "father: 3.654691445585527\n",
      "species: -3.739587055426277\n",
      "city: -3.81837021319994\n",
      "career: 4.206263714858704\n",
      "born: 4.2198144001937505\n",
      "Top features for class 3:\n",
      "army: 2.6466242897584924\n",
      "species: -2.704196952095003\n",
      "aircraft: 2.7172555487314742\n",
      "odysseus: 2.772355694348917\n",
      "century: 2.9374816427216386\n",
      "empire: 2.9783674422542803\n",
      "history: 3.0708807660693576\n",
      "battle: 3.9337158500218825\n",
      "war: 4.477922002822216\n",
      "bc: 4.732587018998444\n",
      "Top features for class 4:\n",
      "city: -2.635997505123337\n",
      "bbc: 2.7663761024561206\n",
      "comic: 2.8283274633755533\n",
      "players: 2.9558605022678592\n",
      "oil: 3.030551675153409\n",
      "characters: 3.1400596952061446\n",
      "series: 3.2367238670898852\n",
      "games: 3.940337937246829\n",
      "film: 4.875628340936812\n",
      "game: 5.634837006595134\n"
     ]
    }
   ],
   "source": [
    "# 1)\n",
    "\n",
    "# Get feature names\n",
    "feature_names = vectorizer.get_feature_names_out()\n",
    "# Get the coefficients of the model\n",
    "coefficients = clf.coef_\n",
    "\n",
    "for class_index, class_coef in enumerate(coefficients):\n",
    "    top_indices = np.argsort(np.abs(class_coef))[-10:]\n",
    "    top_features = [(feature_names[i], class_coef[i]) for i in top_indices]\n",
    "    print(f\"Top features for class {class_index}:\")\n",
    "    for feature, weight in top_features:\n",
    "        print(f\"{feature}: {weight}\")\n",
    "\n",
    "# for feature, weight in top_features[:10]:\n",
    "#     print(f\"{feature}: {weight}\")"
   ]
  },
  {
   "cell_type": "markdown",
   "metadata": {},
   "source": [
    "# Task B. The Wikipedia link network (30 points)"
   ]
  },
  {
   "cell_type": "markdown",
   "metadata": {},
   "source": [
    "### B1. Wikipedia network: reveal your shape! (12 points)\n",
    "#### B1.1 Load the Wikipedia link network (`data/links_task-B.tsv.gz`) into memory as a directed graph using `NetworkX`. (4 points)\n",
    "1. Compute the following from the loaded graph object:\n",
    "    * the number of nodes,\n",
    "    * the number of edges, and\n",
    "    * the average degree.\n",
    "2. **/Discuss:/** In order to summarize the degree distribution in a single number, would you recommend using the average degree? Why, or why not? If not, what alternatives can you think of? Please elaborate!"
   ]
  },
  {
   "cell_type": "code",
   "execution_count": 198,
   "metadata": {},
   "outputs": [
    {
     "data": {
      "text/html": [
       "<div>\n",
       "<style scoped>\n",
       "    .dataframe tbody tr th:only-of-type {\n",
       "        vertical-align: middle;\n",
       "    }\n",
       "\n",
       "    .dataframe tbody tr th {\n",
       "        vertical-align: top;\n",
       "    }\n",
       "\n",
       "    .dataframe thead th {\n",
       "        text-align: right;\n",
       "    }\n",
       "</style>\n",
       "<table border=\"1\" class=\"dataframe\">\n",
       "  <thead>\n",
       "    <tr style=\"text-align: right;\">\n",
       "      <th></th>\n",
       "      <th>hashed_ip_address</th>\n",
       "      <th>source</th>\n",
       "      <th>target</th>\n",
       "      <th>finished</th>\n",
       "      <th>human_path_length</th>\n",
       "      <th>shortest_path_length</th>\n",
       "      <th>duration_in_sec</th>\n",
       "    </tr>\n",
       "  </thead>\n",
       "  <tbody>\n",
       "    <tr>\n",
       "      <th>0</th>\n",
       "      <td>6a3701d319fc3754</td>\n",
       "      <td>14th_century</td>\n",
       "      <td>African_slave_trade</td>\n",
       "      <td>True</td>\n",
       "      <td>9</td>\n",
       "      <td>3</td>\n",
       "      <td>166</td>\n",
       "    </tr>\n",
       "    <tr>\n",
       "      <th>1</th>\n",
       "      <td>3824310e536af032</td>\n",
       "      <td>14th_century</td>\n",
       "      <td>African_slave_trade</td>\n",
       "      <td>True</td>\n",
       "      <td>5</td>\n",
       "      <td>3</td>\n",
       "      <td>88</td>\n",
       "    </tr>\n",
       "    <tr>\n",
       "      <th>2</th>\n",
       "      <td>415612e93584d30e</td>\n",
       "      <td>14th_century</td>\n",
       "      <td>African_slave_trade</td>\n",
       "      <td>True</td>\n",
       "      <td>8</td>\n",
       "      <td>3</td>\n",
       "      <td>138</td>\n",
       "    </tr>\n",
       "    <tr>\n",
       "      <th>3</th>\n",
       "      <td>64dd5cd342e3780c</td>\n",
       "      <td>14th_century</td>\n",
       "      <td>Greece</td>\n",
       "      <td>True</td>\n",
       "      <td>4</td>\n",
       "      <td>2</td>\n",
       "      <td>37</td>\n",
       "    </tr>\n",
       "    <tr>\n",
       "      <th>4</th>\n",
       "      <td>015245d773376aab</td>\n",
       "      <td>14th_century</td>\n",
       "      <td>John_F._Kennedy</td>\n",
       "      <td>True</td>\n",
       "      <td>7</td>\n",
       "      <td>3</td>\n",
       "      <td>175</td>\n",
       "    </tr>\n",
       "  </tbody>\n",
       "</table>\n",
       "</div>"
      ],
      "text/plain": [
       "  hashed_ip_address        source               target  finished  \\\n",
       "0  6a3701d319fc3754  14th_century  African_slave_trade      True   \n",
       "1  3824310e536af032  14th_century  African_slave_trade      True   \n",
       "2  415612e93584d30e  14th_century  African_slave_trade      True   \n",
       "3  64dd5cd342e3780c  14th_century               Greece      True   \n",
       "4  015245d773376aab  14th_century      John_F._Kennedy      True   \n",
       "\n",
       "   human_path_length  shortest_path_length  duration_in_sec  \n",
       "0                  9                     3              166  \n",
       "1                  5                     3               88  \n",
       "2                  8                     3              138  \n",
       "3                  4                     2               37  \n",
       "4                  7                     3              175  "
      ]
     },
     "metadata": {},
     "output_type": "display_data"
    },
    {
     "name": "stdout",
     "output_type": "stream",
     "text": [
      "Number of nodes : 4199\n",
      "Number of edges : 76189\n",
      "Average degree : 36.28911645629912\n"
     ]
    }
   ],
   "source": [
    "# Load the data into a dataframe\n",
    "links_task_df = pd.read_csv('data/paths_df_task-B.tsv.gz', sep='\\t')\n",
    "display(links_task_df.head())\n",
    "\n",
    "# Create the directed graph\n",
    "import networkx as nx\n",
    "G = nx.from_pandas_edgelist(links_task_df, \n",
    "                            'source', 'target', ['finished', 'human_path_length', \n",
    "                                                 'shortest_path_length', 'duration_in_sec'], create_using=nx.MultiDiGraph)\n",
    "\n",
    "print(\"Number of nodes :\", len(G.nodes))\n",
    "print(\"Number of edges :\", len(G.edges))\n",
    "print(\"Average degree :\", sum(dict(G.degree).values()) / len(G.nodes))"
   ]
  },
  {
   "cell_type": "code",
   "execution_count": 135,
   "metadata": {},
   "outputs": [],
   "source": [
    "# I would not recommend using the average degree as we lose information of the directed graph. In fact, because this is a directed\n",
    "# graph, we can have informations about in-degree and out-degree. I would say that these two simple metrics would already be \n",
    "# better than the average degree."
   ]
  },
  {
   "cell_type": "markdown",
   "metadata": {},
   "source": [
    "#### B1.2 Using the appropriate plot type, plot the in-degree and out-degree distributions of the Wikipedia link network and analyze it. (4 points)\n",
    "1. **/Discuss:/** What is the appropriate scale of the axes?\n",
    "2. **/Discuss:/** Does the distribution (roughly) follow a particular distribution, and if yes, which one? Additionally, explain how you arrived at your conclusion."
   ]
  },
  {
   "cell_type": "code",
   "execution_count": 147,
   "metadata": {},
   "outputs": [
    {
     "data": {
      "image/png": "[encoded data removed]",
      "text/plain": [
       "<Figure size 640x480 with 1 Axes>"
      ]
     },
     "metadata": {},
     "output_type": "display_data"
    }
   ],
   "source": [
    "sns.ecdfplot(list(dict(G.out_degree()).values()), complementary=True, label='Out-degree')\n",
    "sns.ecdfplot(list(dict(G.in_degree()).values()), complementary=True, label='In-degree')\n",
    "plt.xscale(\"log\")\n",
    "# plt.yscale(\"log\")\n",
    "# plt.axvline(9)\n",
    "# plt.axhline(0.4)\n",
    "plt.title(\"Complementary CDF\")\n",
    "plt.xlabel(\"Degree centrality\")\n",
    "plt.legend()\n",
    "plt.show();\n",
    "\n",
    "# The x-axis should be log-scale"
   ]
  },
  {
   "cell_type": "markdown",
   "metadata": {},
   "source": [
    "#### B1.3 Connectedness of the Wikipedia link network (4 points)\n",
    "\n",
    "**Definition-1:** An undirected graph $G$ is said to be connected if, for every pair of vertices $(u, v)$, it contains a path that connects the two vertices.\n",
    "\n",
    "**Definition-2:** A directed graph $G_{dir}$ is **weakly connected** (or simply connected) if the underlying undirected graph obtained by replacing all directed edges of the graph with undirected edges is a connected graph (cf. Definition-1). \n",
    "\n",
    "**Definition-3:** A directed graph $G_{dir}$ is **strongly connected** if, for every pair of vertices $(u, v)$, it contains a directed path from $u$ to $v$ and a directed path from $v$ to $u$.\n",
    "\n",
    "Given these definitions, what can you say about the connectedness of the Wikipedia link network? Specifically, answer the following:\n",
    "1. Is the Wikipedia link network weakly connected? If not, print the number of weakly connected components. Additionally, print the number of nodes and edges of the subgraph corresponding to the largest weakly connected component.\n",
    "2. Is the Wikipedia link network strongly connected? If not, print the number of strongly connected components. Additionally, print the number of nodes and edges of the subgraph corresponding to the largest strongly connected component."
   ]
  },
  {
   "cell_type": "code",
   "execution_count": 155,
   "metadata": {},
   "outputs": [
    {
     "name": "stdout",
     "output_type": "stream",
     "text": [
      "Is the graph weakly connected ? True\n",
      "Is the graph strongly connected ? False\n",
      "There are 236 strongly-connected components in G.\n",
      "Number of nodes of largest strongly connected component : 3964\n",
      "Number of edges of largest strongly connected component : 74823\n"
     ]
    }
   ],
   "source": [
    "# is it weakly connected ?\n",
    "print(\"Is the graph weakly connected ?\", nx.is_weakly_connected(G))\n",
    "\n",
    "# is it strongly connected ?\n",
    "print(\"Is the graph strongly connected ?\", nx.is_strongly_connected(G))\n",
    "print(\"There are\", nx.number_strongly_connected_components(G), \"strongly-connected components in G.\")\n",
    "largest = max(nx.strongly_connected_components(G), key=len)\n",
    "G_largest = G.subgraph(largest)\n",
    "print(\"Number of nodes of largest strongly connected component :\", len(G_largest.nodes))\n",
    "print(\"Number of edges of largest strongly connected component :\", len(G_largest.edges))"
   ]
  },
  {
   "cell_type": "markdown",
   "metadata": {},
   "source": [
    "### B2. The interplay between human navigation behavior and Wikipedia network structure (18 points)\n",
    "\n",
    "#### B2.1 Loading and analyzing the game data (3 points)\n",
    "1. Load `data/paths_df_task-B.tsv.gz` as a pandas dataframe.\n",
    "2. Some games were successfully finished (*finished=True*) while others were unsuccessful (i.e., the player gave up before reaching the target article). However, not all unsuccessful games are infeasible; the player might simply not have been good enough at the game to reach the target from the source. **/Discuss:/** Clearly state the reasons why there may be games that are *truly infeasible*.   \n",
    "3. List all unsuccessful games that are *truly infeasible* and remove them from the dataframe."
   ]
  },
  {
   "cell_type": "code",
   "execution_count": 164,
   "metadata": {},
   "outputs": [
    {
     "data": {
      "text/html": [
       "<div>\n",
       "<style scoped>\n",
       "    .dataframe tbody tr th:only-of-type {\n",
       "        vertical-align: middle;\n",
       "    }\n",
       "\n",
       "    .dataframe tbody tr th {\n",
       "        vertical-align: top;\n",
       "    }\n",
       "\n",
       "    .dataframe thead th {\n",
       "        text-align: right;\n",
       "    }\n",
       "</style>\n",
       "<table border=\"1\" class=\"dataframe\">\n",
       "  <thead>\n",
       "    <tr style=\"text-align: right;\">\n",
       "      <th></th>\n",
       "      <th>hashed_ip_address</th>\n",
       "      <th>source</th>\n",
       "      <th>target</th>\n",
       "      <th>finished</th>\n",
       "      <th>human_path_length</th>\n",
       "      <th>shortest_path_length</th>\n",
       "      <th>duration_in_sec</th>\n",
       "    </tr>\n",
       "  </thead>\n",
       "  <tbody>\n",
       "    <tr>\n",
       "      <th>0</th>\n",
       "      <td>6a3701d319fc3754</td>\n",
       "      <td>14th_century</td>\n",
       "      <td>African_slave_trade</td>\n",
       "      <td>True</td>\n",
       "      <td>9</td>\n",
       "      <td>3</td>\n",
       "      <td>166</td>\n",
       "    </tr>\n",
       "    <tr>\n",
       "      <th>1</th>\n",
       "      <td>3824310e536af032</td>\n",
       "      <td>14th_century</td>\n",
       "      <td>African_slave_trade</td>\n",
       "      <td>True</td>\n",
       "      <td>5</td>\n",
       "      <td>3</td>\n",
       "      <td>88</td>\n",
       "    </tr>\n",
       "    <tr>\n",
       "      <th>2</th>\n",
       "      <td>415612e93584d30e</td>\n",
       "      <td>14th_century</td>\n",
       "      <td>African_slave_trade</td>\n",
       "      <td>True</td>\n",
       "      <td>8</td>\n",
       "      <td>3</td>\n",
       "      <td>138</td>\n",
       "    </tr>\n",
       "    <tr>\n",
       "      <th>3</th>\n",
       "      <td>64dd5cd342e3780c</td>\n",
       "      <td>14th_century</td>\n",
       "      <td>Greece</td>\n",
       "      <td>True</td>\n",
       "      <td>4</td>\n",
       "      <td>2</td>\n",
       "      <td>37</td>\n",
       "    </tr>\n",
       "    <tr>\n",
       "      <th>4</th>\n",
       "      <td>015245d773376aab</td>\n",
       "      <td>14th_century</td>\n",
       "      <td>John_F._Kennedy</td>\n",
       "      <td>True</td>\n",
       "      <td>7</td>\n",
       "      <td>3</td>\n",
       "      <td>175</td>\n",
       "    </tr>\n",
       "  </tbody>\n",
       "</table>\n",
       "</div>"
      ],
      "text/plain": [
       "  hashed_ip_address        source               target  finished  \\\n",
       "0  6a3701d319fc3754  14th_century  African_slave_trade      True   \n",
       "1  3824310e536af032  14th_century  African_slave_trade      True   \n",
       "2  415612e93584d30e  14th_century  African_slave_trade      True   \n",
       "3  64dd5cd342e3780c  14th_century               Greece      True   \n",
       "4  015245d773376aab  14th_century      John_F._Kennedy      True   \n",
       "\n",
       "   human_path_length  shortest_path_length  duration_in_sec  \n",
       "0                  9                     3              166  \n",
       "1                  5                     3               88  \n",
       "2                  8                     3              138  \n",
       "3                  4                     2               37  \n",
       "4                  7                     3              175  "
      ]
     },
     "metadata": {},
     "output_type": "display_data"
    },
    {
     "name": "stdout",
     "output_type": "stream",
     "text": [
      "Unfeasible games :\n"
     ]
    },
    {
     "data": {
      "text/html": [
       "<div>\n",
       "<style scoped>\n",
       "    .dataframe tbody tr th:only-of-type {\n",
       "        vertical-align: middle;\n",
       "    }\n",
       "\n",
       "    .dataframe tbody tr th {\n",
       "        vertical-align: top;\n",
       "    }\n",
       "\n",
       "    .dataframe thead th {\n",
       "        text-align: right;\n",
       "    }\n",
       "</style>\n",
       "<table border=\"1\" class=\"dataframe\">\n",
       "  <thead>\n",
       "    <tr style=\"text-align: right;\">\n",
       "      <th></th>\n",
       "      <th>source</th>\n",
       "      <th>target</th>\n",
       "    </tr>\n",
       "  </thead>\n",
       "  <tbody>\n",
       "    <tr>\n",
       "      <th>53533</th>\n",
       "      <td>Oasis_%28band%29</td>\n",
       "      <td>Final_Fantasy_%28video_game%29</td>\n",
       "    </tr>\n",
       "    <tr>\n",
       "      <th>56880</th>\n",
       "      <td>Adolf_Hitler</td>\n",
       "      <td>The_Frogs</td>\n",
       "    </tr>\n",
       "    <tr>\n",
       "      <th>63647</th>\n",
       "      <td>Anne_Frank</td>\n",
       "      <td>Final_Fantasy_%28video_game%29</td>\n",
       "    </tr>\n",
       "    <tr>\n",
       "      <th>63648</th>\n",
       "      <td>Anne_Frank</td>\n",
       "      <td>Final_Fantasy_%28video_game%29</td>\n",
       "    </tr>\n",
       "    <tr>\n",
       "      <th>64511</th>\n",
       "      <td>Toy</td>\n",
       "      <td>Lego</td>\n",
       "    </tr>\n",
       "    <tr>\n",
       "      <th>66654</th>\n",
       "      <td>Hymenoptera</td>\n",
       "      <td>Portuguese_Communist_Party</td>\n",
       "    </tr>\n",
       "    <tr>\n",
       "      <th>71566</th>\n",
       "      <td>Private_Peaceful</td>\n",
       "      <td>Unix</td>\n",
       "    </tr>\n",
       "    <tr>\n",
       "      <th>75567</th>\n",
       "      <td>Quantum_mechanics</td>\n",
       "      <td>Blue_Tit</td>\n",
       "    </tr>\n",
       "  </tbody>\n",
       "</table>\n",
       "</div>"
      ],
      "text/plain": [
       "                  source                          target\n",
       "53533   Oasis_%28band%29  Final_Fantasy_%28video_game%29\n",
       "56880       Adolf_Hitler                       The_Frogs\n",
       "63647         Anne_Frank  Final_Fantasy_%28video_game%29\n",
       "63648         Anne_Frank  Final_Fantasy_%28video_game%29\n",
       "64511                Toy                            Lego\n",
       "66654        Hymenoptera      Portuguese_Communist_Party\n",
       "71566   Private_Peaceful                            Unix\n",
       "75567  Quantum_mechanics                        Blue_Tit"
      ]
     },
     "metadata": {},
     "output_type": "display_data"
    }
   ],
   "source": [
    "links_task_df = pd.read_csv('data/paths_df_task-B.tsv.gz', sep='\\t')\n",
    "display(links_task_df.head())\n",
    "\n",
    "# There may be some truly infeasible games if for example the target page does not have any links. In part B1, we have seen that\n",
    "# the graph is not strongly connected, hence there are some paths from some node v to u that do not exist, hence making some games\n",
    "# unfeasible.\n",
    "\n",
    "unfeasible_df = links_task_df[links_task_df['shortest_path_length']==-1]\n",
    "print(\"Unfeasible games :\")\n",
    "display(unfeasible_df[['source', 'target']])\n",
    "\n",
    "links_task_df = links_task_df[links_task_df['shortest_path_length']!=-1]"
   ]
  },
  {
   "cell_type": "markdown",
   "metadata": {},
   "source": [
    "#### B2.2 Wikispeedia => Wikislowia? (9 points)\n",
    "1. Compute and report the average and median path lengths for games that were successfully finished (*finished=True*). You should compute and report path length in two ways: (1) with respect to the number of clicks needed by *human players*, (2) with respect to the *minimum* number clicks an *optimal player* would need.   \n",
    "   **/Discuss:/** What can you say about the navigability of the Wikipedia link network?   \n",
    "   *Hint: Think about [Milgram's experiment](https://docs.google.com/presentation/d/1h6cIINJ9cNZ-Rtb7SskXrl9Xet5zPUoX2oJlNM0loHQ/edit#slide=id.g464f30ace1_0_261) and relate your findings with his findings!*\n",
    "2. **/Discuss:/** Suppose you want to maliciously decrease Wikipedia's navigability. You are allowed to remove certain edges in the network. What criterion would you use to decide which edges should be removed? Additionally, discuss why these edges are critical for Wikipedia's navigability. Justify your answer with clear and substantive reasoning!   \n",
    "   _Hint: Navigability of a network depends on the existence of short paths in the network._\n",
    "3. **/Discuss:/** In continuation to B2.2.2, assume you are given a budget of $k<<n$ edges to be removed. Design the algorithm that you would employ, provide its pseudocode (as a list of steps), and justify your algorithm design choice.   \n",
    "   *Note: You don't have to describe the steps for computing the criterion you identified in Step B.2.2. Instead, using the identified criterion as a blackbox, you have to provide the steps required to remove $k>1$ edges.*"
   ]
  },
  {
   "cell_type": "code",
   "execution_count": 174,
   "metadata": {},
   "outputs": [
    {
     "name": "stdout",
     "output_type": "stream",
     "text": [
      "Mean human length : 6.757493081810033\n",
      "Median human length : 6.0\n",
      "Mean shortest length : 2.845500253342168\n",
      "Median shortest length : 3.0\n"
     ]
    }
   ],
   "source": [
    "# 1)\n",
    "mean_human = links_task_df[links_task_df['finished']==True].human_path_length.mean()\n",
    "print(\"Mean human length :\", mean_human)\n",
    "median_human = links_task_df[links_task_df['finished']==True].human_path_length.median()\n",
    "print(\"Median human length :\", median_human)\n",
    "\n",
    "mean_shortest = links_task_df[links_task_df['finished']==True].shortest_path_length.mean()\n",
    "print(\"Mean shortest length :\", mean_shortest)\n",
    "median_shortest = links_task_df[links_task_df['finished']==True].shortest_path_length.median()\n",
    "print(\"Median shortest length :\", median_shortest)\n",
    "\n",
    "# There on average around 3 degrees of separation between wikipedia pages but humans in average reach the goal in double this value\n",
    "# Compared to Milgram's experiment, this result is similar but cannot really be compared as the scenarios are completely different.\n"
   ]
  },
  {
   "cell_type": "code",
   "execution_count": null,
   "metadata": {},
   "outputs": [],
   "source": [
    "# 2) \n",
    "\n",
    "# To decrease Wikipedia's navigability, it would be useful to remoce the edges that join different clusters of pages.\n",
    "# By doing this, we remove short paths between far-away clusters and greatly reduce the navigability between clusters.\n",
    "# Find the edge with highest edge betweenness centrality\n",
    "\n",
    "# 3)\n",
    "\n",
    "# Find short paths connecting clusters\n",
    "# Find short paths connecting the k biggest clusters\n",
    "# Remove the k edges connecting the k biggest clusters"
   ]
  },
  {
   "cell_type": "markdown",
   "metadata": {},
   "source": [
    "#### B2.3 Relationship between network structure and game completion (6 points)\n",
    "1. Enrich the dataframe with the eigenvector centrality and in-degree of the target article for each game path.\n",
    "2. Using plots of appropriate type, plot the in-degree distribution of the target articles of game paths. What is the appropriate scale of the axes? Additionally, summarize the in-degree distribution of the target articles in a single number using a suitable metric. Justify your choice of the metric.\n",
    "3. Using plots of appropriate type, analyze the differences in in-degree and eigenvector centrality of finished and unfinished games.   \n",
    "   **/Discuss:/** What do you observe? Clearly discuss your observations!"
   ]
  },
  {
   "cell_type": "code",
   "execution_count": 201,
   "metadata": {},
   "outputs": [
    {
     "data": {
      "text/html": [
       "<div>\n",
       "<style scoped>\n",
       "    .dataframe tbody tr th:only-of-type {\n",
       "        vertical-align: middle;\n",
       "    }\n",
       "\n",
       "    .dataframe tbody tr th {\n",
       "        vertical-align: top;\n",
       "    }\n",
       "\n",
       "    .dataframe thead th {\n",
       "        text-align: right;\n",
       "    }\n",
       "</style>\n",
       "<table border=\"1\" class=\"dataframe\">\n",
       "  <thead>\n",
       "    <tr style=\"text-align: right;\">\n",
       "      <th></th>\n",
       "      <th>hashed_ip_address</th>\n",
       "      <th>source</th>\n",
       "      <th>target</th>\n",
       "      <th>finished</th>\n",
       "      <th>human_path_length</th>\n",
       "      <th>shortest_path_length</th>\n",
       "      <th>duration_in_sec</th>\n",
       "      <th>in_degree_x</th>\n",
       "      <th>in_degree_y</th>\n",
       "      <th>in_degree</th>\n",
       "    </tr>\n",
       "  </thead>\n",
       "  <tbody>\n",
       "    <tr>\n",
       "      <th>0</th>\n",
       "      <td>6a3701d319fc3754</td>\n",
       "      <td>14th_century</td>\n",
       "      <td>African_slave_trade</td>\n",
       "      <td>True</td>\n",
       "      <td>9</td>\n",
       "      <td>3</td>\n",
       "      <td>166</td>\n",
       "      <td>27</td>\n",
       "      <td>27</td>\n",
       "      <td>27</td>\n",
       "    </tr>\n",
       "    <tr>\n",
       "      <th>1</th>\n",
       "      <td>3824310e536af032</td>\n",
       "      <td>14th_century</td>\n",
       "      <td>African_slave_trade</td>\n",
       "      <td>True</td>\n",
       "      <td>5</td>\n",
       "      <td>3</td>\n",
       "      <td>88</td>\n",
       "      <td>27</td>\n",
       "      <td>27</td>\n",
       "      <td>27</td>\n",
       "    </tr>\n",
       "    <tr>\n",
       "      <th>2</th>\n",
       "      <td>415612e93584d30e</td>\n",
       "      <td>14th_century</td>\n",
       "      <td>African_slave_trade</td>\n",
       "      <td>True</td>\n",
       "      <td>8</td>\n",
       "      <td>3</td>\n",
       "      <td>138</td>\n",
       "      <td>27</td>\n",
       "      <td>27</td>\n",
       "      <td>27</td>\n",
       "    </tr>\n",
       "    <tr>\n",
       "      <th>3</th>\n",
       "      <td>4e97d9af4476607f</td>\n",
       "      <td>Police_state</td>\n",
       "      <td>African_slave_trade</td>\n",
       "      <td>True</td>\n",
       "      <td>104</td>\n",
       "      <td>3</td>\n",
       "      <td>1141</td>\n",
       "      <td>27</td>\n",
       "      <td>27</td>\n",
       "      <td>27</td>\n",
       "    </tr>\n",
       "    <tr>\n",
       "      <th>4</th>\n",
       "      <td>5bbb6c9d7e4c5e75</td>\n",
       "      <td>Police_state</td>\n",
       "      <td>African_slave_trade</td>\n",
       "      <td>True</td>\n",
       "      <td>6</td>\n",
       "      <td>3</td>\n",
       "      <td>76</td>\n",
       "      <td>27</td>\n",
       "      <td>27</td>\n",
       "      <td>27</td>\n",
       "    </tr>\n",
       "    <tr>\n",
       "      <th>...</th>\n",
       "      <td>...</td>\n",
       "      <td>...</td>\n",
       "      <td>...</td>\n",
       "      <td>...</td>\n",
       "      <td>...</td>\n",
       "      <td>...</td>\n",
       "      <td>...</td>\n",
       "      <td>...</td>\n",
       "      <td>...</td>\n",
       "      <td>...</td>\n",
       "    </tr>\n",
       "    <tr>\n",
       "      <th>74136</th>\n",
       "      <td>51ab2f167971e964</td>\n",
       "      <td>Space_Shuttle_Endeavour</td>\n",
       "      <td>Calcite</td>\n",
       "      <td>True</td>\n",
       "      <td>7</td>\n",
       "      <td>3</td>\n",
       "      <td>293</td>\n",
       "      <td>12</td>\n",
       "      <td>12</td>\n",
       "      <td>12</td>\n",
       "    </tr>\n",
       "    <tr>\n",
       "      <th>74137</th>\n",
       "      <td>51ab2f167971e964</td>\n",
       "      <td>Space_Shuttle_Endeavour</td>\n",
       "      <td>Calcite</td>\n",
       "      <td>True</td>\n",
       "      <td>9</td>\n",
       "      <td>3</td>\n",
       "      <td>329</td>\n",
       "      <td>12</td>\n",
       "      <td>12</td>\n",
       "      <td>12</td>\n",
       "    </tr>\n",
       "    <tr>\n",
       "      <th>74138</th>\n",
       "      <td>51ab2f167971e964</td>\n",
       "      <td>Space_Shuttle_Endeavour</td>\n",
       "      <td>Calcite</td>\n",
       "      <td>True</td>\n",
       "      <td>12</td>\n",
       "      <td>3</td>\n",
       "      <td>335</td>\n",
       "      <td>12</td>\n",
       "      <td>12</td>\n",
       "      <td>12</td>\n",
       "    </tr>\n",
       "    <tr>\n",
       "      <th>74147</th>\n",
       "      <td>3635101c075a3990</td>\n",
       "      <td>Super_14</td>\n",
       "      <td>15th_Marine_Expeditionary_Unit</td>\n",
       "      <td>True</td>\n",
       "      <td>16</td>\n",
       "      <td>3</td>\n",
       "      <td>700</td>\n",
       "      <td>23</td>\n",
       "      <td>23</td>\n",
       "      <td>23</td>\n",
       "    </tr>\n",
       "    <tr>\n",
       "      <th>74170</th>\n",
       "      <td>365e4400691e50fe</td>\n",
       "      <td>War_of_the_League_of_Cambrai</td>\n",
       "      <td>Puffin</td>\n",
       "      <td>True</td>\n",
       "      <td>6</td>\n",
       "      <td>3</td>\n",
       "      <td>299</td>\n",
       "      <td>43</td>\n",
       "      <td>43</td>\n",
       "      <td>43</td>\n",
       "    </tr>\n",
       "  </tbody>\n",
       "</table>\n",
       "<p>51314 rows × 10 columns</p>\n",
       "</div>"
      ],
      "text/plain": [
       "      hashed_ip_address                        source  \\\n",
       "0      6a3701d319fc3754                  14th_century   \n",
       "1      3824310e536af032                  14th_century   \n",
       "2      415612e93584d30e                  14th_century   \n",
       "3      4e97d9af4476607f                  Police_state   \n",
       "4      5bbb6c9d7e4c5e75                  Police_state   \n",
       "...                 ...                           ...   \n",
       "74136  51ab2f167971e964       Space_Shuttle_Endeavour   \n",
       "74137  51ab2f167971e964       Space_Shuttle_Endeavour   \n",
       "74138  51ab2f167971e964       Space_Shuttle_Endeavour   \n",
       "74147  3635101c075a3990                      Super_14   \n",
       "74170  365e4400691e50fe  War_of_the_League_of_Cambrai   \n",
       "\n",
       "                               target  finished  human_path_length  \\\n",
       "0                 African_slave_trade      True                  9   \n",
       "1                 African_slave_trade      True                  5   \n",
       "2                 African_slave_trade      True                  8   \n",
       "3                 African_slave_trade      True                104   \n",
       "4                 African_slave_trade      True                  6   \n",
       "...                               ...       ...                ...   \n",
       "74136                         Calcite      True                  7   \n",
       "74137                         Calcite      True                  9   \n",
       "74138                         Calcite      True                 12   \n",
       "74147  15th_Marine_Expeditionary_Unit      True                 16   \n",
       "74170                          Puffin      True                  6   \n",
       "\n",
       "       shortest_path_length  duration_in_sec  in_degree_x  in_degree_y  \\\n",
       "0                         3              166           27           27   \n",
       "1                         3               88           27           27   \n",
       "2                         3              138           27           27   \n",
       "3                         3             1141           27           27   \n",
       "4                         3               76           27           27   \n",
       "...                     ...              ...          ...          ...   \n",
       "74136                     3              293           12           12   \n",
       "74137                     3              329           12           12   \n",
       "74138                     3              335           12           12   \n",
       "74147                     3              700           23           23   \n",
       "74170                     3              299           43           43   \n",
       "\n",
       "       in_degree  \n",
       "0             27  \n",
       "1             27  \n",
       "2             27  \n",
       "3             27  \n",
       "4             27  \n",
       "...          ...  \n",
       "74136         12  \n",
       "74137         12  \n",
       "74138         12  \n",
       "74147         23  \n",
       "74170         43  \n",
       "\n",
       "[51314 rows x 10 columns]"
      ]
     },
     "execution_count": 201,
     "metadata": {},
     "output_type": "execute_result"
    }
   ],
   "source": [
    "# Enrich the dataframe\n",
    "degree = [val for (_, val) in G.in_degree()]\n",
    "nodes = [node for (node, _) in G.in_degree()]\n",
    "centrality_df = pd.DataFrame({'target':nodes, 'in_degree':degree})\n",
    "links_task_df = links_task_df.merge(centrality_df, on='target', how='inner')\n",
    "\n",
    "restricted_df = links_task_df[links_task_df['finished']==True]"
   ]
  },
  {
   "cell_type": "code",
   "execution_count": 217,
   "metadata": {},
   "outputs": [
    {
     "data": {
      "image/png": "[encoded data removed]",
      "text/plain": [
       "<Figure size 640x480 with 1 Axes>"
      ]
     },
     "metadata": {},
     "output_type": "display_data"
    }
   ],
   "source": [
    "mean_in_degree_human = restricted_df.groupby('human_path_length').in_degree.mean()\n",
    "mean_in_degree_shortest = restricted_df.groupby('shortest_path_length').in_degree.mean()\n",
    "\n",
    "plt.plot(np.sort(restricted_df['human_path_length'].unique()), mean_in_degree_human, label='Human')\n",
    "plt.plot(np.sort(restricted_df['shortest_path_length'].unique()), mean_in_degree_shortest, label='Shortest')\n",
    "plt.xscale('log')\n",
    "plt.yscale('log')\n",
    "plt.xlabel('Path length')\n",
    "plt.ylabel('In-degree of target')\n",
    "plt.legend()\n",
    "plt.show();\n"
   ]
  },
  {
   "cell_type": "markdown",
   "metadata": {},
   "source": [
    "# Task C. Putting on the causality hat (30 points)"
   ]
  },
  {
   "cell_type": "markdown",
   "metadata": {},
   "source": [
    "### C1. Are articles with high in-degree easier to find? A naive analysis (6 points)\n",
    "\n",
    "Recall that in each Wikispeedia game, a player is **randomly** assigned a source article and a target article. In task **C**, we are interested in measuring the effect of the target article's in-degree on the player's chances of successfully finishing the game.\n",
    "\n",
    "1. Load `data/paths_df_task-C.tsv.gz` as a pandas dataframe.\n",
    "2. Consider target articles with fewer than 20 incoming links to have a *low in-degree* and articles with at least 20 to have a *high in-degree*.\n",
    "3. Calculate the fraction of games with a high-in-degree target that was finished, and the fraction of games with a low-in-degree target that was finished. Do you observe significant differences, and in what direction? (You may do a statistical test or provide confidence intervals.)\n",
    "4. Repeat the same analysis for the game duration, for finished games only.\n",
    "5. Quantify and discuss your findings from Steps C1.3 and C1.4."
   ]
  },
  {
   "cell_type": "code",
   "execution_count": null,
   "metadata": {},
   "outputs": [
    {
     "data": {
      "text/html": [
       "<div>\n",
       "<style scoped>\n",
       "    .dataframe tbody tr th:only-of-type {\n",
       "        vertical-align: middle;\n",
       "    }\n",
       "\n",
       "    .dataframe tbody tr th {\n",
       "        vertical-align: top;\n",
       "    }\n",
       "\n",
       "    .dataframe thead th {\n",
       "        text-align: right;\n",
       "    }\n",
       "</style>\n",
       "<table border=\"1\" class=\"dataframe\">\n",
       "  <thead>\n",
       "    <tr style=\"text-align: right;\">\n",
       "      <th></th>\n",
       "      <th>hashed_ip_address</th>\n",
       "      <th>source</th>\n",
       "      <th>target</th>\n",
       "      <th>finished</th>\n",
       "      <th>human_path_length</th>\n",
       "      <th>shortest_path_length</th>\n",
       "      <th>duration_in_sec</th>\n",
       "      <th>in_degree_target</th>\n",
       "    </tr>\n",
       "  </thead>\n",
       "  <tbody>\n",
       "    <tr>\n",
       "      <th>0</th>\n",
       "      <td>6a3701d319fc3754</td>\n",
       "      <td>14th_century</td>\n",
       "      <td>African_slave_trade</td>\n",
       "      <td>True</td>\n",
       "      <td>9</td>\n",
       "      <td>3</td>\n",
       "      <td>166</td>\n",
       "      <td>7.0</td>\n",
       "    </tr>\n",
       "    <tr>\n",
       "      <th>1</th>\n",
       "      <td>3824310e536af032</td>\n",
       "      <td>14th_century</td>\n",
       "      <td>African_slave_trade</td>\n",
       "      <td>True</td>\n",
       "      <td>5</td>\n",
       "      <td>3</td>\n",
       "      <td>88</td>\n",
       "      <td>7.0</td>\n",
       "    </tr>\n",
       "    <tr>\n",
       "      <th>2</th>\n",
       "      <td>415612e93584d30e</td>\n",
       "      <td>14th_century</td>\n",
       "      <td>African_slave_trade</td>\n",
       "      <td>True</td>\n",
       "      <td>8</td>\n",
       "      <td>3</td>\n",
       "      <td>138</td>\n",
       "      <td>7.0</td>\n",
       "    </tr>\n",
       "    <tr>\n",
       "      <th>3</th>\n",
       "      <td>64dd5cd342e3780c</td>\n",
       "      <td>14th_century</td>\n",
       "      <td>Greece</td>\n",
       "      <td>True</td>\n",
       "      <td>4</td>\n",
       "      <td>2</td>\n",
       "      <td>37</td>\n",
       "      <td>246.0</td>\n",
       "    </tr>\n",
       "    <tr>\n",
       "      <th>4</th>\n",
       "      <td>015245d773376aab</td>\n",
       "      <td>14th_century</td>\n",
       "      <td>John_F._Kennedy</td>\n",
       "      <td>True</td>\n",
       "      <td>7</td>\n",
       "      <td>3</td>\n",
       "      <td>175</td>\n",
       "      <td>60.0</td>\n",
       "    </tr>\n",
       "  </tbody>\n",
       "</table>\n",
       "</div>"
      ],
      "text/plain": [
       "  hashed_ip_address        source               target  finished  \\\n",
       "0  6a3701d319fc3754  14th_century  African_slave_trade      True   \n",
       "1  3824310e536af032  14th_century  African_slave_trade      True   \n",
       "2  415612e93584d30e  14th_century  African_slave_trade      True   \n",
       "3  64dd5cd342e3780c  14th_century               Greece      True   \n",
       "4  015245d773376aab  14th_century      John_F._Kennedy      True   \n",
       "\n",
       "   human_path_length  shortest_path_length  duration_in_sec  in_degree_target  \n",
       "0                  9                     3              166               7.0  \n",
       "1                  5                     3               88               7.0  \n",
       "2                  8                     3              138               7.0  \n",
       "3                  4                     2               37             246.0  \n",
       "4                  7                     3              175              60.0  "
      ]
     },
     "metadata": {},
     "output_type": "display_data"
    },
    {
     "data": {
      "text/plain": [
       "TtestResult(statistic=98.17243261967809, pvalue=0.0, df=51312.0)"
      ]
     },
     "execution_count": 236,
     "metadata": {},
     "output_type": "execute_result"
    }
   ],
   "source": [
    "# 1) \n",
    "paths_df = pd.read_csv('data/paths_df_task-C.tsv.gz', sep='\\t')\n",
    "display(paths_df.head())\n",
    "\n",
    "def define_high_low(degree):\n",
    "    if degree >= 20:\n",
    "        return 1\n",
    "    else:\n",
    "        return 0\n",
    "paths_df['degree_level'] = paths_df['in_degree_target'].apply(lambda x: define_high_low(x))\n",
    "finished_paths_df = paths_df[paths_df['finished']==True]\n",
    "\n",
    "high_frac = finished_paths_df[finished_paths_df['degree_level']==1].shape[0]/paths_df.shape[0]\n",
    "low_frac = finished_paths_df[finished_paths_df['degree_level']==0].shape[0]/paths_df.shape[0]\n",
    "\n",
    "import scipy.stats as stats\n",
    "stats.ttest_ind(finished_paths_df[finished_paths_df['degree_level']==1].in_degree_target, \n",
    "                finished_paths_df[finished_paths_df['degree_level']==0].in_degree_target)\n",
    "# Clear difference (more high-in-degree that were finished) and statistically significant as p = 0.0"
   ]
  },
  {
   "cell_type": "code",
   "execution_count": 237,
   "metadata": {},
   "outputs": [
    {
     "data": {
      "text/plain": [
       "TtestResult(statistic=-40.507287614974295, pvalue=0.0, df=51312.0)"
      ]
     },
     "execution_count": 237,
     "metadata": {},
     "output_type": "execute_result"
    }
   ],
   "source": [
    "paths_df['time_level'] = paths_df['duration_in_sec'].apply(lambda x: define_high_low(x))\n",
    "finished_paths_df = paths_df[paths_df['finished']==True]\n",
    "\n",
    "high_frac = finished_paths_df[finished_paths_df['time_level']==1].shape[0]/paths_df.shape[0]\n",
    "low_frac = finished_paths_df[finished_paths_df['time_level']==0].shape[0]/paths_df.shape[0]\n",
    "\n",
    "import scipy.stats as stats\n",
    "stats.ttest_ind(finished_paths_df[finished_paths_df['time_level']==1].in_degree_target, \n",
    "                finished_paths_df[finished_paths_df['time_level']==0].in_degree_target)\n",
    "# Clear difference (more high-in-degree that were finished) and statistically significant as p = 0.0"
   ]
  },
  {
   "cell_type": "markdown",
   "metadata": {},
   "source": [
    "### C2. Modeling the study setup with a causal diagram (9 points)\n",
    "\n",
    "**C2.1** We are interested in the effect of target in-degree (**deg(T)**) on the binary outcome **(O)** that captures whether the game was successfully finished or not. In the previously conducted naive analysis, we did not take into account the shortest path length **(L)**, which is the minimum number of clicks necessary in order to reach the target article from the source article **(S)**. Target and source articles are randomly assigned, independently from each other. The assigned source article S and deg(T) affect the shortest path length L. The source article affects the outcome through the shortest path length, and also directly, as some sources might be more central in the network.   \n",
    "Choose a causal diagram **(A, B, C, D, E, or F)** that corresponds to the described relationships between the following 4 variables. Additionally, justify your choice and explain your reasoning. **(4 points)**\n",
    "- **deg(T):** target in-degree,\n",
    "- **L:** shortest path length between source and target,\n",
    "- **S:** name of source article,\n",
    "- **O:** outcome, i.e., the binary indicator that says whether the game was successfully finished."
   ]
  },
  {
   "cell_type": "code",
   "execution_count": 16,
   "metadata": {
    "scrolled": false
   },
   "outputs": [
    {
     "data": {
      "image/png": "[encoded data removed]",
      "text/plain": [
       "<IPython.core.display.Image object>"
      ]
     },
     "execution_count": 16,
     "metadata": {},
     "output_type": "execute_result"
    }
   ],
   "source": [
    "Image(filename=\"img/diagram.png\") "
   ]
  },
  {
   "cell_type": "code",
   "execution_count": 17,
   "metadata": {},
   "outputs": [],
   "source": [
    "# B"
   ]
  },
  {
   "cell_type": "markdown",
   "metadata": {},
   "source": [
    "**C2.2** **/Discuss:/** What is potentially misleading about the naive analysis done in task **C1**? In what conceivable ways could the conclusions about the impact of target in-degree **deg(T)** on the outcome **O** be wrong?\n",
    "Could the findings go in the opposite direction of a true direct causal effect? Justify your answer. **(5 points)**"
   ]
  },
  {
   "cell_type": "code",
   "execution_count": 18,
   "metadata": {},
   "outputs": [],
   "source": [
    " "
   ]
  },
  {
   "cell_type": "markdown",
   "metadata": {},
   "source": [
    "### C3. A more controlled analysis: matching on source article and shortest path length (15 points)\n",
    "\n",
    "Let's now understand how the estimated effect of the target in-degree would differ if we controlled for both the source article and the shortest path length between source and target. Construct a set of matched pairs of games. In a matched pair, the two games differ in target in-degree (one has a high in-degree, and the other has a low in-degree), but the source article and the shortest path length are exactly the same. Note that your output must be a 1-to-1 matching.\n",
    "\n",
    "1. Perform exact matching on source article and shortest path length. This means that two candidate games can be matched only if the source article and the shortest path length are exactly the same. Additionally, report the number of matched pairs of games. **(7 points)**   \n",
    "   **Important heads-up**: *Depending on the configuration of your computer, computing the exact matching could take up to 3 minutes of compute time.*\n",
    "2. Among the matched pairs of games, calculate the fraction of games with a high-in-degree target that was successfully finished, and the fraction of games with a low-in-degree target that was successfully finished. Do you observe significant differences, and in what direction? (You may do a statistical test or provide confidence intervals.) **(3 points)**\n",
    "3. **/Discuss:/** What do you observe? Are the conclusions different from the conclusions reached in C1? If yes, speculate as to why that is the case. How is the estimation in task C1 different from the estimation in task C3? **(4 points)**\n",
    "4. **/Discuss:/** Based on your findings, how should Wikipedia be modified in order to increase the fraction of finished Wikispeedia games? **(1 points)**\n",
    "\n",
    "*Hint: How you construct the set of matched pairs is up to you. One way can be to build an unweighted bipartite graph where games with targets with a high in-degree are on one side (the \"treated class\"), and games with targets with a low in-degree are on the other side (the \"control class\"). The edge between two matching candidate games is created only if there is an exact match on the source article and the shortest path length. Based on this bipartite graph, you can then find the **optimal** matching. However, note that this is neither the required nor the only way.*"
   ]
  },
  {
   "cell_type": "code",
   "execution_count": 19,
   "metadata": {},
   "outputs": [],
   "source": [
    "'''your answer/code here''';"
   ]
  }
 ],
 "metadata": {
  "kernelspec": {
   "display_name": "adaexam",
   "language": "python",
   "name": "python3"
  },
  "language_info": {
   "codemirror_mode": {
    "name": "ipython",
    "version": 3
   },
   "file_extension": ".py",
   "mimetype": "text/x-python",
   "name": "python",
   "nbconvert_exporter": "python",
   "pygments_lexer": "ipython3",
   "version": "3.9.7"
  },
  "pycharm": {
   "stem_cell": {
    "cell_type": "raw",
    "metadata": {
     "collapsed": false
    },
    "source": []
   }
  },
  "varInspector": {
   "cols": {
    "lenName": 16,
    "lenType": 16,
    "lenVar": 40
   },
   "kernels_config": {
    "python": {
     "delete_cmd_postfix": "",
     "delete_cmd_prefix": "del ",
     "library": "var_list.py",
     "varRefreshCmd": "print(var_dic_list())"
    },
    "r": {
     "delete_cmd_postfix": ") ",
     "delete_cmd_prefix": "rm(",
     "library": "var_list.r",
     "varRefreshCmd": "cat(var_dic_list()) "
    }
   },
   "types_to_exclude": [
    "module",
    "function",
    "builtin_function_or_method",
    "instance",
    "_Feature"
   ],
   "window_display": false
  }
 },
 "nbformat": 4,
 "nbformat_minor": 4
}
